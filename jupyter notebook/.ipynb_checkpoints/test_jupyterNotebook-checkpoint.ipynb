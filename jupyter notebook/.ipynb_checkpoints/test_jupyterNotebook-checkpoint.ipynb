{
 "cells": [
  {
   "cell_type": "markdown",
   "id": "093f4a21",
   "metadata": {},
   "source": [
    "# python ka chilla\n",
    "## how to use jupyter notebook\n",
    "## basic of python \n",
    "### **01-my first program**"
   ]
  },
  {
   "cell_type": "code",
   "execution_count": 1,
   "id": "9c09926d",
   "metadata": {},
   "outputs": [
    {
     "name": "stdout",
     "output_type": "stream",
     "text": [
      "5\n",
      "Hello\n",
      "7\n",
      "Hi zak\n"
     ]
    }
   ],
   "source": [
    "#my first_program in python.\n",
    "print(2+3)\n",
    "print(\"Hello\")\n",
    "print(3+4)\n",
    "print(\"Hi zak\")"
   ]
  },
  {
   "cell_type": "markdown",
   "id": "1ea061c3",
   "metadata": {},
   "source": [
    "### **02-operators**"
   ]
  },
  {
   "cell_type": "code",
   "execution_count": 2,
   "id": "8362512d",
   "metadata": {},
   "outputs": [
    {
     "name": "stdout",
     "output_type": "stream",
     "text": [
      "5\n",
      "2\n",
      "12\n",
      "4.0\n",
      "1\n",
      "4\n",
      "8\n",
      "5.0\n"
     ]
    }
   ],
   "source": [
    "2+3\n",
    "print(2+3)\n",
    "print(3-1)\n",
    "print(3*4)\n",
    "print(8/2)\n",
    "print(9%2)\n",
    "print(8//2)\n",
    "print(2**3)\n",
    "print(2**3/2*3/4+3-1)"
   ]
  },
  {
   "cell_type": "markdown",
   "id": "ecb8ee95",
   "metadata": {},
   "source": [
    "### **03-string**"
   ]
  },
  {
   "cell_type": "code",
   "execution_count": 3,
   "id": "398004ff",
   "metadata": {
    "scrolled": true
   },
   "outputs": [
    {
     "name": "stdout",
     "output_type": "stream",
     "text": [
      "5\n",
      "Hello\n",
      "7\n",
      "Hi zak\n",
      "test for single qoutes\n",
      "Test for double qoutes \n",
      "test for triple qoutes\n",
      "what's up\n"
     ]
    }
   ],
   "source": [
    "print(2+3)\n",
    "print(\"Hello\")\n",
    "print(3+4)\n",
    "print(\"Hi zak\")\n",
    "print('test for single qoutes')\n",
    "print(\"Test for double qoutes \")\n",
    "print( '''test for triple qoutes''')\n",
    "print(\"what's up\")"
   ]
  },
  {
   "cell_type": "markdown",
   "id": "bf165245",
   "metadata": {},
   "source": [
    "### **04_comment**"
   ]
  },
  {
   "cell_type": "code",
   "execution_count": 4,
   "id": "91bd1677",
   "metadata": {
    "scrolled": true
   },
   "outputs": [
    {
     "name": "stdout",
     "output_type": "stream",
     "text": [
      "hhow are you\n",
      "we are learning python with ammar\n",
      "7\n"
     ]
    }
   ],
   "source": [
    "print(\"hhow are you\")  #print strings\n",
    "print(\"we are learning python with ammar\")   #ctrl+/ =comment\n",
    "print(2+5) "
   ]
  },
  {
   "cell_type": "markdown",
   "id": "424cda82",
   "metadata": {},
   "source": [
    "### **05_variables**"
   ]
  },
  {
   "cell_type": "code",
   "execution_count": 5,
   "id": "2081b51b",
   "metadata": {},
   "outputs": [
    {
     "name": "stdout",
     "output_type": "stream",
     "text": [
      "5\n",
      "we are learning python with ammar\n",
      "15\n",
      "<class 'int'>\n",
      "<class 'str'>\n"
     ]
    },
    {
     "ename": "NameError",
     "evalue": "name 'fruit_basket' is not defined",
     "output_type": "error",
     "traceback": [
      "\u001b[1;31m---------------------------------------------------------------------------\u001b[0m",
      "\u001b[1;31mNameError\u001b[0m                                 Traceback (most recent call last)",
      "\u001b[1;32m~\\AppData\\Local\\Temp/ipykernel_9896/2088180426.py\u001b[0m in \u001b[0;36m<module>\u001b[1;34m\u001b[0m\n\u001b[0;32m     23\u001b[0m \u001b[0mfruit_basket\u001b[0m\u001b[1;33m=\u001b[0m\u001b[1;34m\"mangoes\"\u001b[0m\u001b[1;33m\u001b[0m\u001b[1;33m\u001b[0m\u001b[0m\n\u001b[0;32m     24\u001b[0m \u001b[1;32mdel\u001b[0m \u001b[0mfruit_basket\u001b[0m\u001b[1;33m\u001b[0m\u001b[1;33m\u001b[0m\u001b[0m\n\u001b[1;32m---> 25\u001b[1;33m \u001b[0mprint\u001b[0m\u001b[1;33m(\u001b[0m\u001b[0mtype\u001b[0m\u001b[1;33m(\u001b[0m\u001b[0mfruit_basket\u001b[0m\u001b[1;33m)\u001b[0m\u001b[1;33m)\u001b[0m\u001b[1;33m\u001b[0m\u001b[1;33m\u001b[0m\u001b[0m\n\u001b[0m",
      "\u001b[1;31mNameError\u001b[0m: name 'fruit_basket' is not defined"
     ]
    }
   ],
   "source": [
    "# variables :objects conating specific values\n",
    "x = 5      # numeric or integer variable\n",
    "print(x)\n",
    "y=\"we are learning python with ammar\"  # strings variable\n",
    "print(y)\n",
    "x=x+10   # x=15\n",
    "print(x)\n",
    "\n",
    "#types or class of variables\n",
    "type(x)\n",
    "print(type(x))\n",
    "print(type(y))\n",
    "\n",
    "\n",
    "# rules to assign variables:\n",
    "# 1-The variables should contain letters,numbers, and underscores\n",
    "# 2-Do not start with numbers\n",
    "# 3-Do not use keywords used in functions (break,mean,median,test etc)\n",
    "# 4-Short and descriptive\n",
    "# 5-Case sensitive (lower case should used)\n",
    "\n",
    "fruit_basket=8\n",
    "fruit_basket=\"mangoes\"\n",
    "del fruit_basket\n",
    "print(type(fruit_basket))"
   ]
  },
  {
   "cell_type": "markdown",
   "id": "1c8e7f05",
   "metadata": {},
   "source": [
    "### **06_input_variables**"
   ]
  },
  {
   "cell_type": "code",
   "execution_count": 6,
   "id": "2e28e6f1",
   "metadata": {},
   "outputs": [
    {
     "name": "stdout",
     "output_type": "stream",
     "text": [
      "what is your name? zak\n",
      "how old are you? 12\n",
      "hello! zak , you are still young\n"
     ]
    }
   ],
   "source": [
    "# fruit_basket= \"mangoes\"\n",
    "# print(fruit_basket)\n",
    "\n",
    "#input function simple\n",
    "\n",
    "# fruit_basket=input(\"what is your favorit fruit? \")\n",
    "# print(fruit_basket)\n",
    "#input function of 2nd stage\n",
    "# name=input(\"what is your name? \")\n",
    "# greeting=\"hello!\"\n",
    "# print(greeting,name)\n",
    "#another way of stage 2 input function\n",
    "# name=input(\"what is your namr? \" )\n",
    "# print(\"hello!\", name)\n",
    "#3rd stage of input function:\n",
    "name=input(\"what is your name? \")\n",
    "age=input(\"how old are you? \")\n",
    "greeting=\"hello!\"\n",
    "print(greeting,name, \", you are still young\")"
   ]
  },
  {
   "cell_type": "markdown",
   "id": "8e61d615",
   "metadata": {},
   "source": [
    "### **07_conditional_logic**"
   ]
  },
  {
   "cell_type": "code",
   "execution_count": 7,
   "id": "a5ac7f52",
   "metadata": {},
   "outputs": [
    {
     "name": "stdout",
     "output_type": "stream",
     "text": [
      "False\n",
      "how old are you? 12\n",
      "<class 'int'>\n",
      "False\n"
     ]
    }
   ],
   "source": [
    "#logic operator are either \"true or fals\" or \"yes or no\" or \"0 or 1\"\n",
    "#equal to                         ==\n",
    "#not equal to                     !=\n",
    "#less than                         <\n",
    "#greater than                      >\n",
    "#less than or equal to             <=\n",
    "#greater than or equal to          >=\n",
    "\n",
    "# 4 is eeqal to 4\n",
    "# print(4==4)\n",
    "# print(4!=4)\n",
    "# print(3>2)\n",
    "# print(4<5)\n",
    "# print(3<=5)\n",
    "# print(4>=3)\n",
    "\n",
    "\n",
    "\n",
    "#application of logic operation\n",
    "ali_age=4\n",
    "age_at_school=5\n",
    "print(ali_age==age_at_school)\n",
    "\n",
    "#input function ans logic operaator\n",
    "age_at_school=5\n",
    "ali_age=input(\"how old are you? \")     #input function\n",
    "ali_age=int(ali_age)\n",
    "print(type(ali_age))\n",
    "print(ali_age==age_at_school)         #conditional logic"
   ]
  },
  {
   "cell_type": "markdown",
   "id": "bcab8fbe",
   "metadata": {},
   "source": [
    "### **08_conversion**"
   ]
  },
  {
   "cell_type": "code",
   "execution_count": 8,
   "id": "d57589d4",
   "metadata": {},
   "outputs": [
    {
     "name": "stdout",
     "output_type": "stream",
     "text": [
      "waht is your name? zak\n",
      "zak type of age is:  <class 'str'>\n"
     ]
    }
   ],
   "source": [
    "# x=10            #int\n",
    "# y=10.2          #float \n",
    "# z=\"hello\"       #string\n",
    "#implicit type conversio\n",
    "# x=x*y\n",
    "# x=x+y\n",
    "# print(type(x))\n",
    "\n",
    "#explicit type conversion\n",
    "# age=input(\"waht is your age? \")\n",
    "\n",
    "# print(age,\"type of age is: \",type(int(age)))        #for int\n",
    "# print(age,\"type of age is: \",type(float(age)))        #for float\n",
    "\n",
    "\n",
    "name=input(\"waht is your name? \")\n",
    "\n",
    "# print(age,\"type of age is: \",type(int(age)))        #for int\n",
    "print(name,\"type of age is: \",type(str(name))) "
   ]
  },
  {
   "cell_type": "markdown",
   "id": "64131927",
   "metadata": {},
   "source": [
    "### **09_if_elif_else**"
   ]
  },
  {
   "cell_type": "code",
   "execution_count": 9,
   "id": "d87ba6b6",
   "metadata": {},
   "outputs": [
    {
     "name": "stdout",
     "output_type": "stream",
     "text": [
      "ali should join high school\n"
     ]
    }
   ],
   "source": [
    "ali_age=8\n",
    "required_age_at_school=6\n",
    "if ali_age==required_age_at_school:\n",
    "    print(\"congrts!ali can join the school\")\n",
    "elif ali_age>required_age_at_school:\n",
    "    print(\"ali should join high school\")\n",
    "elif ali_age<=2:\n",
    "    print(\"you schould thake care of ali\")\n",
    "\n",
    "else:\n",
    "    print(\"ali can not join the school\")"
   ]
  },
  {
   "cell_type": "markdown",
   "id": "3593e2fb",
   "metadata": {},
   "source": [
    "### **10_function**"
   ]
  },
  {
   "cell_type": "code",
   "execution_count": 10,
   "id": "8b9e1b76",
   "metadata": {},
   "outputs": [
    {
     "name": "stdout",
     "output_type": "stream",
     "text": [
      "30\n"
     ]
    }
   ],
   "source": [
    "#definging functions \n",
    "#1\n",
    "# def print_codanic():\n",
    "#     print(\"we are learing python\")\n",
    "#     print(\"we are learing python\")\n",
    "#     print(\"we are learing python\")\n",
    "\n",
    "# print_codanic()\n",
    "\n",
    "#2\n",
    "# def print_codanic():\n",
    "#     text=\"we are learning python with ammar in codanics\"\n",
    "#     print(text)\n",
    "#     print(text)\n",
    "#     print(text)\n",
    "\n",
    "# print_codanic()\n",
    "#3\n",
    "# def print_codanic(text):\n",
    "#     print(text)\n",
    "#     print(text)\n",
    "#     print(text)\n",
    "\n",
    "# print_codanic(\"we are learning python\")\n",
    "\n",
    "#defining a function with if, elif and else statments\n",
    "# def school_calculator(age):\n",
    "#     if age==5:\n",
    "#        print(\"ali can join the school\")\n",
    "#     elif age>5:\n",
    "#        print(\"ali should go to high school\")\n",
    "#     else:\n",
    "#        print(\"ali is still baby\")\n",
    "# school_calculator(3)\n",
    "\n",
    "#defining a function of future\n",
    "def future_age(age):\n",
    "   new_age=age+20\n",
    "   return new_age\n",
    "   print(new_age)\n",
    "future_predicted_age=future_age(10)\n",
    "print(future_predicted_age)"
   ]
  },
  {
   "cell_type": "markdown",
   "id": "b9ecc6c6",
   "metadata": {},
   "source": [
    "### **11_loop**"
   ]
  },
  {
   "cell_type": "code",
   "execution_count": 11,
   "id": "9aac2b02",
   "metadata": {},
   "outputs": [
    {
     "name": "stdout",
     "output_type": "stream",
     "text": [
      "mod\n",
      "tue\n",
      "wed\n",
      "thu\n"
     ]
    }
   ],
   "source": [
    "#while and for loop\n",
    "\n",
    "# while loop\n",
    "# x=0\n",
    "# while (x<5):\n",
    "#     print(x)\n",
    "#     x=x+1\n",
    "#for loop\n",
    "# for x in range (5,11):\n",
    "#   print(x)\n",
    "\n",
    "\n",
    "#array\n",
    "\n",
    "days=[\"mod\",\"tue\",\"wed\",\"thu\",\"fri\",\"sat\",\"sun\"]\n",
    "\n",
    "for d in days:\n",
    "   if (d==\"fri\"): break \n",
    "   if (d==\"fri\"): continue\n",
    "   print(d)"
   ]
  },
  {
   "cell_type": "markdown",
   "id": "faa3e597",
   "metadata": {},
   "source": [
    "### **12_important_libraries**"
   ]
  },
  {
   "cell_type": "code",
   "execution_count": 12,
   "id": "77846178",
   "metadata": {},
   "outputs": [
    {
     "name": "stdout",
     "output_type": "stream",
     "text": [
      "166.66666666666666\n"
     ]
    }
   ],
   "source": [
    "#if you wan to print the value of pi\n",
    "\n",
    "#import math \n",
    "#print(\"the valur of pi is  \",math.pi)\n",
    "\n",
    "import statistics\n",
    "x={130,150,160,170,190,200}\n",
    "print(statistics.mean(x))\n",
    "\n",
    "#numpy,pandas = libraries"
   ]
  },
  {
   "cell_type": "markdown",
   "id": "a649b57d",
   "metadata": {},
   "source": [
    "### **13_trouble_shooting**"
   ]
  },
  {
   "cell_type": "code",
   "execution_count": 13,
   "id": "044f195a",
   "metadata": {},
   "outputs": [
    {
     "name": "stdout",
     "output_type": "stream",
     "text": [
      "we are learning python\n",
      "hello! ali\n",
      "hello!ali\n"
     ]
    }
   ],
   "source": [
    "#print(we are learning python)     #syntex error\n",
    "from ast import alias\n",
    "\n",
    "\n",
    "print(\"we are learning python\")\n",
    "\n",
    "#print(25/0)   run time error\n",
    "name=\"ali\" \n",
    "#print(hello name)   symendic error\n",
    "\n",
    "print(\"hello!\" , name)\n",
    "print(\"hello!\"+name)              #no space"
   ]
  }
 ],
 "metadata": {
  "kernelspec": {
   "display_name": "Python 3 (ipykernel)",
   "language": "python",
   "name": "python3"
  },
  "language_info": {
   "codemirror_mode": {
    "name": "ipython",
    "version": 3
   },
   "file_extension": ".py",
   "mimetype": "text/x-python",
   "name": "python",
   "nbconvert_exporter": "python",
   "pygments_lexer": "ipython3",
   "version": "3.9.7"
  }
 },
 "nbformat": 4,
 "nbformat_minor": 5
}
